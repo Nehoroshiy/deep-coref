{
 "cells": [
  {
   "cell_type": "code",
   "execution_count": 1,
   "metadata": {
    "collapsed": false
   },
   "outputs": [],
   "source": [
    "%load_ext autoreload\n",
    "    \n",
    "%autoreload 2"
   ]
  },
  {
   "cell_type": "code",
   "execution_count": 2,
   "metadata": {
    "collapsed": false
   },
   "outputs": [
    {
     "name": "stdout",
     "output_type": "stream",
     "text": [
      "/Users/cnst/Projects/coref/code_sources/rucoref\n",
      "/Users/cnst/Projects/coref/code_sources\n"
     ]
    },
    {
     "name": "stderr",
     "output_type": "stream",
     "text": [
      "/Users/cnst/anaconda/lib/python3.5/site-packages/pandas/computation/__init__.py:19: UserWarning: The installed version of numexpr 2.4.4 is not supported in pandas and will be not be used\n",
      "\n",
      "  UserWarning)\n"
     ]
    }
   ],
   "source": [
    "%cd '../../'\n",
    "from anaphoralib.corpora import rueval\n",
    "from anaphoralib.tagsets import multeast\n",
    "from anaphoralib.tagsets.utils import same_grammemmes\n",
    "from anaphoralib.experiments import mentionpair\n",
    "from anaphoralib.experiments import coref_utils\n",
    "from anaphoralib import utils\n",
    "from anaphoralib.experiments import utils as exp_utils\n",
    "%cd '..'\n",
    "#%load_ext autoreload\n",
    "#%autoreload 2\n",
    "\n",
    "scorer_path = 'rucoref/external/reference-coreference-scorers/scorer.pl'"
   ]
  },
  {
   "cell_type": "markdown",
   "metadata": {},
   "source": [
    "# Utility functions for splitting dataset onto train-test pair"
   ]
  },
  {
   "cell_type": "code",
   "execution_count": 3,
   "metadata": {
    "collapsed": true
   },
   "outputs": [],
   "source": [
    "import csv\n",
    "import numpy as np\n",
    "import pandas as pd\n",
    "\n",
    "from numpy import linalg as la, random as rnd\n",
    "\n",
    "DEBUG_SEED = 42\n",
    "DEFAULT_CSV_PARAMS = {\n",
    "    \"sep\": '\\t',\n",
    "    \"quoting\": csv.QUOTE_NONE\n",
    "}\n",
    "FNAMES = [\"Corpus-2015/Tokens.txt\", \"Corpus-2015/Groups.txt\"]\n",
    "TRAIN_RATE = 0.7\n",
    "SPLIT_COLUMN = \"doc_id\""
   ]
  },
  {
   "cell_type": "code",
   "execution_count": 28,
   "metadata": {
    "collapsed": true
   },
   "outputs": [],
   "source": [
    "def read_pandas_csv(fname, **csv_params):\n",
    "    return pd.read_csv(fname, **csv_params)\n",
    "\n",
    "\n",
    "def write_pandas_csv(df, fname, **csv_params):\n",
    "    df.to_csv(fname, index=False, **csv_params)\n",
    "\n",
    "\n",
    "def train_test_split(data, train_rate=TRAIN_RATE, split_column=SPLIT_COLUMN, seed=None):\n",
    "    multiple_df = True\n",
    "    if train_rate <= 0.0 or train_rate >= 1.0:\n",
    "        raise ValueError(\"train_rate must lie in (0, 1), but got {}\".format(train_rate))\n",
    "    if isinstance(data, pd.DataFrame):\n",
    "        multiple_df = False\n",
    "        data = (data,)\n",
    "    for df in data:\n",
    "        if split_column not in df.columns:\n",
    "            raise ValueError(\"split_column {} must be valid column in dataframe, but got {} only\"\\\n",
    "                             .format(split_column, list(df.columns)))\n",
    "    unique_df_indices = set(data[0][split_column].unique())\n",
    "    for df in data[1:]:\n",
    "        if unique_df_indices != set(df[split_column].unique()):\n",
    "            raise ValueError(\"all dataframes must have equal unique indices.\")\n",
    "    \n",
    "    unique_df_indices = data[0][split_column].unique()\n",
    "    if seed is not None:\n",
    "        prng = rnd.RandomState(seed)\n",
    "    else:\n",
    "        prng = rnd.RandomState()\n",
    "    \n",
    "    train_mask = np.array(prng.binomial(1.0, train_rate, size=len(unique_df_indices)), dtype=np.bool)\n",
    "    train_indices = unique_df_indices[train_mask]\n",
    "    test_indices = unique_df_indices[~train_mask]\n",
    "    train_data, test_data = (), ()\n",
    "    for df in data:\n",
    "        train_data += (df.loc[df[split_column].isin(train_indices)], )\n",
    "        test_data += (df.loc[df[split_column].isin(test_indices)], )\n",
    "    return (train_data, test_data) if multiple_df else (train_data[0], test_data[0])\n",
    "\n",
    "def save_train_test(train_data, test_data, fnames, **csv_params):\n",
    "    multiple_df = True\n",
    "    if isinstance(train_data, pd.DataFrame):\n",
    "        multiple_df = False\n",
    "        train_data, test_data, fnames = (train_data,), (test_data,), (fnames,)\n",
    "    names, exts = tuple(\".\".join(fname.split(\".\")[:-1]) for fname in fnames),\\\n",
    "                    tuple(fname.split(\".\")[-1] for fname in fnames)\n",
    "    for train_df, test_df, name, ext in zip(train_data, test_data, names, exts):\n",
    "        write_pandas_csv(train_df, fname=\".\".join([name, \"train\", ext]), **csv_params)\n",
    "        write_pandas_csv(test_df, fname=\".\".join([name, \"test\", ext]), **csv_params)\n",
    "\n",
    "def train_test_file_partition(fnames, train_rate=TRAIN_RATE, split_column=SPLIT_COLUMN, seed=DEBUG_SEED, **csv_params):\n",
    "    if not csv_params:\n",
    "        global DEFAULT_CSV_PARAMS\n",
    "        csv_params = DEFAULT_CSV_PARAMS\n",
    "    data = tuple(read_pandas_csv(fname, **DEFAULT_CSV_PARAMS) for fname in fnames)\n",
    "    train_data, test_data = train_test_split(data, train_rate=train_rate, split_column=split_column, seed=seed)\n",
    "    save_train_test(train_data, test_data, fnames, **csv_params)"
   ]
  },
  {
   "cell_type": "code",
   "execution_count": 27,
   "metadata": {
    "collapsed": false
   },
   "outputs": [
    {
     "name": "stdout",
     "output_type": "stream",
     "text": [
      "181\n"
     ]
    }
   ],
   "source": [
    "train_test_file_partition(FNAMES, train_rate=TRAIN_RATE, split_column=SPLIT_COLUMN, seed=DEBUG_SEED)"
   ]
  },
  {
   "cell_type": "markdown",
   "metadata": {
    "collapsed": false
   },
   "source": [
    "# Evaluation of github code\n",
    " load train and test corpuses\n",
    "-------------------------------------"
   ]
  },
  {
   "cell_type": "code",
   "execution_count": 6,
   "metadata": {
    "collapsed": true
   },
   "outputs": [],
   "source": [
    "rucoref_train = rueval.RuCorefCorpus(multeast, rueval)\n",
    "rucoref_test = rueval.RuCorefCorpus(multeast, rueval)"
   ]
  },
  {
   "cell_type": "code",
   "execution_count": 7,
   "metadata": {
    "collapsed": false
   },
   "outputs": [
    {
     "name": "stdout",
     "output_type": "stream",
     "text": [
      "D|\tfilename: Corpus-2015/Tokens.train.txt\n",
      "D|\tfields: ['doc_id', 'shift', 'length', 'token', 'lemma', 'gram']\n",
      "D|\tnext word: {'gram': 'Sp-a', 'doc_id': '1', 'lemma': 'во', 'token': 'Во', 'shift': '0', 'length': '2'}\n",
      "D|\tnext word: {'gram': 'Vmis-sma-e', 'doc_id': '16', 'lemma': 'мочь', 'token': 'мог', 'shift': '2114', 'length': '3'}\n",
      "D|\tnext word: {'gram': '-', 'doc_id': '28', 'lemma': '-', 'token': '-', 'shift': '5300', 'length': '1'}\n",
      "D|\tnext word: {'gram': 'Vmps-sfpsp', 'doc_id': '81', 'lemma': 'замешать', 'token': 'замешана', 'shift': '2891', 'length': '8'}\n",
      "D|\tnext word: {'gram': 'P--nsnn', 'doc_id': '98', 'lemma': 'это', 'token': 'Это', 'shift': '5199', 'length': '3'}\n",
      "D|\tnext word: {'gram': '-', 'doc_id': '134', 'lemma': ')', 'token': ')', 'shift': '10371', 'length': '1'}\n",
      "D|\tnext word: {'gram': 'Afpmpaf', 'doc_id': '251', 'lemma': 'широкий', 'token': 'широкие', 'shift': '7341', 'length': '7'}\n",
      "D|\tnext word: {'gram': 'Mc---d', 'doc_id': '268', 'lemma': '@card@', 'token': '15', 'shift': '2122', 'length': '2'}\n",
      "D|\tnext word: {'gram': 'Sp-l', 'doc_id': '301', 'lemma': 'на', 'token': 'на', 'shift': '1433', 'length': '2'}\n",
      "D|\tnext word: {'gram': 'Ncfpnn', 'doc_id': '321', 'lemma': 'цель', 'token': 'цели', 'shift': '3709', 'length': '4'}\n",
      "D|\tnext word: {'gram': 'Ncmsnn', 'doc_id': '700', 'lemma': 'он', 'token': 'Он', 'shift': '1615', 'length': '2'}\n",
      "D|\tnext word: {'gram': 'Ncmsny', 'doc_id': '739', 'lemma': 'и', 'token': 'И', 'shift': '1', 'length': '1'}\n",
      "D|\tload_syntax: False\n",
      "D|\tself.parses: None\n",
      "Number of texts: 130\n",
      "Number of GS texts: 130\n",
      "Number of chains in a corpus: 2585\n",
      "Number of words in all chains: 12046\n"
     ]
    }
   ],
   "source": [
    "exp_utils.load_corpus(rucoref_train, 'Corpus-2015/Tokens.train.txt', 'Corpus-2015/Groups.train.txt')"
   ]
  },
  {
   "cell_type": "code",
   "execution_count": 8,
   "metadata": {
    "collapsed": false
   },
   "outputs": [
    {
     "name": "stdout",
     "output_type": "stream",
     "text": [
      "D|\tfilename: Corpus-2015/Tokens.test.txt\n",
      "D|\tfields: ['doc_id', 'shift', 'length', 'token', 'lemma', 'gram']\n",
      "D|\tnext word: {'gram': '-', 'doc_id': '2', 'lemma': '-', 'token': '-', 'shift': '0', 'length': '1'}\n",
      "D|\tnext word: {'gram': 'Sp-a', 'doc_id': '69', 'lemma': 'на', 'token': 'на', 'shift': '1167', 'length': '2'}\n",
      "D|\tnext word: {'gram': '-', 'doc_id': '117', 'lemma': '\"', 'token': '\"', 'shift': '916', 'length': '1'}\n",
      "D|\tnext word: {'gram': 'Sp-d', 'doc_id': '277', 'lemma': 'по', 'token': 'по', 'shift': '1348', 'length': '2'}\n",
      "D|\tnext word: {'gram': 'Ncfsnn', 'doc_id': '323', 'lemma': 'речь', 'token': 'речь', 'shift': '10478', 'length': '4'}\n",
      "D|\tload_syntax: False\n",
      "D|\tself.parses: None\n",
      "Number of texts: 51\n",
      "Number of GS texts: 51\n",
      "Number of chains in a corpus: 1053\n",
      "Number of words in all chains: 4511\n"
     ]
    }
   ],
   "source": [
    "exp_utils.load_corpus(rucoref_test, 'Corpus-2015/Tokens.test.txt', 'Corpus-2015/Groups.test.txt')"
   ]
  },
  {
   "cell_type": "markdown",
   "metadata": {},
   "source": [
    "Defining the classifiers\n",
    "--------------------"
   ]
  },
  {
   "cell_type": "code",
   "execution_count": 9,
   "metadata": {
    "collapsed": true
   },
   "outputs": [],
   "source": [
    "class BaselineAllSingletonsClassifier(mentionpair.MentionPairClassifier):\n",
    "    def pair_coreferent(self, pair, groups, words):\n",
    "        return False"
   ]
  },
  {
   "cell_type": "code",
   "execution_count": 10,
   "metadata": {
    "collapsed": true
   },
   "outputs": [],
   "source": [
    "class BaselineAllInOneClassifier(mentionpair.MentionPairClassifier):\n",
    "    def pair_coreferent(self, pair, groups, words):\n",
    "        return True"
   ]
  },
  {
   "cell_type": "code",
   "execution_count": 11,
   "metadata": {
    "collapsed": false
   },
   "outputs": [],
   "source": [
    "class BaselineStrMatchClassifier(mentionpair.MentionPairClassifier):\n",
    "    def pair_coreferent(self, pair, groups, words):\n",
    "        is_pronoun = rucoref_test.tagset.pos_filters['pronoun'](pair[0])\n",
    "        is_personal_pronoun = rucoref_test.tagset.extract_feature('person', pair[0]) in ('1', '2')\n",
    "        \n",
    "        return (not is_pronoun or is_personal_pronoun) and ' '.join(pair[0].lemma) == ' '.join(pair[1].lemma)"
   ]
  },
  {
   "cell_type": "code",
   "execution_count": 12,
   "metadata": {
    "collapsed": true
   },
   "outputs": [],
   "source": [
    "class BaselineHeadMatchClassifier(mentionpair.MentionPairClassifier):\n",
    "    def pair_coreferent(self, pair, groups, words):\n",
    "        is_pronoun = rucoref_test.tagset.pos_filters['pronoun'](pair[0])\n",
    "        is_personal_pronoun = rucoref_test.tagset.extract_feature('person', pair[0]) in ('1', '2')\n",
    "        \n",
    "        return (not is_pronoun or is_personal_pronoun) and pair[0].lemma[pair[0].head] == pair[1].lemma[pair[1].head]"
   ]
  },
  {
   "cell_type": "code",
   "execution_count": 13,
   "metadata": {
    "collapsed": true
   },
   "outputs": [],
   "source": [
    "class BaselineHeadMatchProClassifier(mentionpair.MentionPairClassifier):\n",
    "    def __init__(self, scorer_path):\n",
    "        super(BaselineHeadMatchProClassifier, self).__init__(scorer_path)\n",
    "        self.groups_match = lambda pair: pair[0].lemma[pair[0].head] == pair[1].lemma[pair[1].head]\n",
    "    def pair_coreferent(self, pair, groups, words):\n",
    "        tagset = rucoref_test.tagset\n",
    "        \n",
    "        is_pronoun = lambda w: tagset.pos_filters['pronoun'](w)\n",
    "        is_deictic_pronoun = lambda w: tagset.extract_feature('person', w) in ('1', '2')\n",
    "        \n",
    "        number_agrees = lambda p: same_grammemmes('number', p, tagset)\n",
    "        gender_agrees = lambda p: same_grammemmes('gender', p, tagset)\n",
    "        \n",
    "        if is_pronoun(pair[1]):\n",
    "            heads = [np.words[np.head] if np.type != 'word' else np for np in pair]\n",
    "            heads_indices = [words.index(head) for head in heads]\n",
    "\n",
    "            nouns_agr_between = [word for word in words[heads_indices[0]+1:heads_indices[1]]\n",
    "                                     if tagset.pos_filters['noun'](word)\n",
    "                                     and number_agrees((word, pair[1]))\n",
    "                                     and gender_agrees((word, pair[1]))\n",
    "                                ]\n",
    "        \n",
    "        return (\n",
    "                (is_deictic_pronoun(pair[0]) and self.groups_match(pair))\n",
    "               or\n",
    "                (not is_pronoun(pair[0]) and pair[0].lemma[pair[0].head] == pair[1].lemma[pair[1].head])\n",
    "               or\n",
    "               (\n",
    "                not is_pronoun(pair[0]) and is_pronoun(pair[1])\n",
    "                and number_agrees(pair)\n",
    "                and gender_agrees(pair)\n",
    "                and len(nouns_agr_between) == 0\n",
    "               )\n",
    "        )"
   ]
  },
  {
   "cell_type": "code",
   "execution_count": 14,
   "metadata": {
    "collapsed": true
   },
   "outputs": [],
   "source": [
    "class BaselineStrMatchProClassifier(BaselineHeadMatchProClassifier):\n",
    "    def __init__(self, scorer_path):\n",
    "        super(BaselineStrMatchProClassifier, self).__init__(scorer_path)\n",
    "        self.groups_match = lambda pair: ' '.join(pair[0].lemma) == ' '.join(pair[1].lemma)"
   ]
  },
  {
   "cell_type": "code",
   "execution_count": 15,
   "metadata": {
    "collapsed": true
   },
   "outputs": [],
   "source": [
    "good_pronouns = {'я', 'мы', \n",
    "                 'ты', 'вы', \n",
    "                 'он', 'она', 'оно', 'они', \n",
    "                 'мой', 'наш', \n",
    "                 'твой', 'ваш', \n",
    "                 'его', 'ее', 'их',\n",
    "                 'себя', 'свой',\n",
    "                 'который'\n",
    "                }\n",
    "group_ok = lambda g: g.tag.startswith('N') or (g.tag.startswith('P') and g.lemma[0] in good_pronouns)"
   ]
  },
  {
   "cell_type": "code",
   "execution_count": 16,
   "metadata": {
    "collapsed": true
   },
   "outputs": [],
   "source": [
    "gs_mentions, gs_group_ids = coref_utils.get_gs_groups(rucoref_test)\n",
    "gs_groups = gs_mentions\n",
    "\n",
    "pred_mentions, pred_group_ids = coref_utils.get_pred_groups(rucoref_test, group_ok)\n",
    "pred_groups = rucoref_test.groups\n",
    "\n",
    "pred_mentions_gold_bound, pred_gold_bounds_ids = coref_utils.get_pred_groups_gold_boundaries(rucoref_test, group_ok)\n",
    "pred_groups_gold_bound = rucoref_test.groups"
   ]
  },
  {
   "cell_type": "code",
   "execution_count": 17,
   "metadata": {
    "collapsed": false
   },
   "outputs": [
    {
     "name": "stdout",
     "output_type": "stream",
     "text": [
      "106\n",
      "237\n",
      "237\n"
     ]
    }
   ],
   "source": [
    "print(len(gs_mentions[1]))\n",
    "print(len(pred_mentions[1]))\n",
    "print(len(pred_mentions_gold_bound[1]))"
   ]
  },
  {
   "cell_type": "code",
   "execution_count": null,
   "metadata": {
    "collapsed": true
   },
   "outputs": [],
   "source": [
    "gg = pred_mentions_gold_bound[0][0]"
   ]
  },
  {
   "cell_type": "code",
   "execution_count": null,
   "metadata": {
    "collapsed": false
   },
   "outputs": [],
   "source": [
    "ww = gg.words[0]"
   ]
  },
  {
   "cell_type": "code",
   "execution_count": null,
   "metadata": {
    "collapsed": false
   },
   "outputs": [],
   "source": [
    "ww.wordform[0]"
   ]
  },
  {
   "cell_type": "code",
   "execution_count": null,
   "metadata": {
    "collapsed": false
   },
   "outputs": [],
   "source": []
  },
  {
   "cell_type": "code",
   "execution_count": 18,
   "metadata": {
    "collapsed": false
   },
   "outputs": [
    {
     "data": {
      "text/plain": [
       "[Елена Сергеевна(Npfsny, 16),\n",
       " Старая учительница(Ncfsny, 38),\n",
       " глаза(Ncmpan, 78),\n",
       " нею(P-3fsin, 91),\n",
       " невысокий молодой человек(Afpmsnf, 101),\n",
       " Он(P-3msnn, 128),\n",
       " нее(P-3fsan, 142),\n",
       " она(P-3fsnn, 167),\n",
       " смешное мальчишеское выражение глаз(Ncnsnn, 183),\n",
       " его(P-----a, 233),\n",
       " Дементьев(Npmsny, 243),\n",
       " она(P-3fsnn, 264),\n",
       " я(P-1-snn, 300),\n",
       " человек(Ncmsny, 312),\n",
       " Она(P-3fsnn, 339),\n",
       " он(P-3msnn, 354),\n",
       " нею(P-3fsin, 372),\n",
       " Дементьев(Npmsny, 403),\n",
       " он(P-3msnn, 444),\n",
       " театре(Ncmsln, 452),\n",
       " Я(P-1-snn, 460),\n",
       " актер(Ncmsny, 462),\n",
       " Актер(Ncmsny, 469),\n",
       " бытовые роли(Ncfpan, 478),\n",
       " Я(P-1-snn, 579),\n",
       " она(P-3fsnn, 610),\n",
       " четвертый класс(Ncmsan, 633),\n",
       " удивительные ребята(Ncmpnn, 662),\n",
       " Она(P-3fsnn, 738),\n",
       " упавшим голосом(Ncmsin, 768),\n",
       " комнату новую(Ncfsan, 794),\n",
       " двухкомнатной квартире(Ncfsln, 818),\n",
       " рай(Ncmsnn, 851),\n",
       " ее(P-----a, 870),\n",
       " голосе(Ncmsln, 873),\n",
       " Дементьева(Npmsay, 892),\n",
       " Елена Сергеевна(Npfsny, 940),\n",
       " он(P-3msnn, 966),\n",
       " комната(Ncfsnn, 1010),\n",
       " лифта(Ncmsgn, 1046),\n",
       " я(P-1-snn, 1071),\n",
       " Директор школы(Ncmsny, 1113),\n",
       " Управдом(Ncmsny, 1129),\n",
       " Соседи(Ncmpny, 1139),\n",
       " Соседи(Ncmpny, 1152),\n",
       " Елена Сергеевна(Npfsny, 1177),\n",
       " я(P-1-snn, 1207),\n",
       " тяжестью старого чугунного утюга(Ncfsin, 1222),\n",
       " Мои(P---pna, 1256),\n",
       " себя(P----an, 1290),\n",
       " хозяевами новой квартиры(Ncmpiy, 1295),\n",
       " они(P-3-pnn, 1326),\n",
       " Они(P-3-pnn, 1355),\n",
       " кухни(Ncfsgn, 1382),\n",
       " мой(P--msna, 1388),\n",
       " ванной(Ncfsln, 1402),\n",
       " вешалки(Ncfsgn, 1420),\n",
       " крючки(Ncmpan, 1430),\n",
       " полотенце(Ncnsan, 1457),\n",
       " Газовые горелки(Ncfpnn, 1468),\n",
       " их(P-3-pan, 1498),\n",
       " борщами(Ncmpin, 1501),\n",
       " часу(Ncmsdn, 1529),\n",
       " чай(Ncmsan, 1552),\n",
       " мужчина(Ncmsny, 1573),\n",
       " мелочи(Ncfpnn, 1605),\n",
       " атмосфере(Ncfsln, 1623),\n",
       " нюансах(Ncmpln, 1636),\n",
       " милицию(Ncfsan, 1650),\n",
       " суд(Ncmsan, 1672),\n",
       " Я(P-1-snn, 1680),\n",
       " ними(P-3-pin, 1692),\n",
       " Дементьев(Npmsny, 1735),\n",
       " глаза(Ncmpnn, 1748),\n",
       " него(P-3msgn, 1756),\n",
       " Хамство(Ncnsnn, 1790),\n",
       " чистом виде(Ncmsln, 1800),\n",
       " адрес(Ncmsan, 1843),\n",
       " я(P-1-snn, 1876),\n",
       " Я(P-1-snn, 1888),\n",
       " вечером(Ncmsin, 1898),\n",
       " просьба(Ncfsnn, 1926),\n",
       " Елена Сергеевна(Npfsny, 1935),\n",
       " моей(P--fsla, 2000),\n",
       " театре(Ncmsln, 2028),\n",
       " вечера(Ncmsgn, 2078),\n",
       " ваших(P---pla, 2099),\n",
       " волшебную силу искусства(Ncfsan, 2117),\n",
       " он(P-3msnn, 2148),\n",
       " вечером(Ncmsin, 2162),\n",
       " звонок(Ncmsnn, 2179),\n",
       " один раз(Ncmsan, 2195),\n",
       " Мадам Мордатенкова(Ncfsny, 2208),\n",
       " боками(Ncmpin, 2244),\n",
       " коридору(Ncmsdn, 2262),\n",
       " ней(P-3fsin, 2289),\n",
       " ручки(Ncfsgn, 2302),\n",
       " брючки(Ncmpan, 2310),\n",
       " невысокий человек(Ncmsny, 2324),\n",
       " кепочке(Ncfsln, 2345),\n",
       " его(P-----a, 2384),\n",
       " нижней , влажной и отвисшей его губе(Ncfsln, 2357),\n",
       " окурок(Ncmsan, 2399),\n",
       " Сергеева(Npfsny, 2424),\n",
       " человек в кепочке(Ncmsny, 2451),\n",
       " кепочке(Ncfsln, 2461),\n",
       " его(P-----a, 2508),\n",
       " шокированная всем его видом Мордатенкова(Npmsgy, 2490),\n",
       " Сергеевой(Ncmsny, 2534),\n",
       " два звонка(Ncm-a, 2544),\n",
       " кепочка(Ncfsnn, 2598),\n",
       " Оскорбленное достоинство Мордатенковой(Ncnsan, 2610),\n",
       " глубь квартиры(Ncfsan, 2661),\n",
       " Ходчей(Ncmsny, 2682),\n",
       " хриплый голос(Ncmsnn, 2711),\n",
       " черепаха(Ncfsny, 2740),\n",
       " Бока(Ncmpnn, 2753),\n",
       " мадам(Ncfsny, 2758),\n",
       " порезвей(Ncfpgn, 2777),\n",
       " она(P-3fsnn, 2807),\n",
       " Елены Сергеевны(Npfsgy, 2830),\n",
       " Незнакомец(Ncmsny, 2859),\n",
       " дверь(Ncfsan, 2898),\n",
       " время(Ncnsan, 2916),\n",
       " его(P-----a, 2922),\n",
       " разговора(Ncmsgn, 2926),\n",
       " учительницей(Ncfsiy, 2938),\n",
       " дверь(Ncfsan, 2951),\n",
       " Мордатенкова(Npfsny, 2985),\n",
       " себе(P----dn, 3022),\n",
       " каждое слово(Ncnsan, 3036),\n",
       " развязного пришельца(Ncmsay, 3049),\n",
       " бумажку(Ncfsan, 3100),\n",
       " обмена(Ncmsgn, 3115),\n",
       " Елены Сергеевны(Npfsgy, 3162),\n",
       " Я(P-1-snn, 3181),\n",
       " конуренку(Ncfsan, 3200),\n",
       " Нюркой(Npfsiy, 3240),\n",
       " женой моей(Ncfsiy, 3248),\n",
       " разговор(Ncmsnn, 3260),\n",
       " я(P-1-snn, 3308),\n",
       " Я(P-1-snn, 3324),\n",
       " я(P-1-snn, 3337),\n",
       " жисть(Ncfsan, 3351),\n",
       " мине(Ncfsln, 3386),\n",
       " два корешка(Ncm-a, 3395),\n",
       " удобство(Ncnsnn, 3471),\n",
       " Удобство(Ncnsnn, 3481),\n",
       " метры(Ncmpan, 3512),\n",
       " они(P-3-pnn, 3530)]"
      ]
     },
     "execution_count": 18,
     "metadata": {},
     "output_type": "execute_result"
    }
   ],
   "source": [
    "pred_mentions_gold_bound[0][:150]"
   ]
  },
  {
   "cell_type": "code",
   "execution_count": 19,
   "metadata": {
    "collapsed": true
   },
   "outputs": [],
   "source": [
    "gs_mentions_train, gs_group_ids_train = coref_utils.get_gs_groups(rucoref_train)\n",
    "gs_groups_train = gs_mentions_train\n",
    "\n",
    "pred_mentions_train, pred_group_ids_train = coref_utils.get_pred_groups(rucoref_train, group_ok)\n",
    "pred_groups_train = rucoref_train.groups\n",
    "\n",
    "pred_mentions_gold_bound_train, pred_gold_bounds_ids = coref_utils.get_pred_groups_gold_boundaries(rucoref_train, group_ok)\n",
    "pred_groups_gold_bound_train = rucoref_train.groups"
   ]
  },
  {
   "cell_type": "markdown",
   "metadata": {},
   "source": [
    "Testing the baseline classifiers:"
   ]
  },
  {
   "cell_type": "code",
   "execution_count": 20,
   "metadata": {
    "collapsed": false
   },
   "outputs": [
    {
     "name": "stdout",
     "output_type": "stream",
     "text": [
      "\\textsc{BaselineAllInOneClassifier} &  $99.95$  & $77.45$ & $99.94$ & $87.26$  & $11.66$ & $99.92$ & $20.88$  & $24.31$ \\\\\n",
      "\\textsc{BaselineAllSingletonsClassifier} &  $100.00$  & $0.00$ & $0.00$ & $0.00$  & $100.00$ & $23.39$ & $37.91$  & $23.39$ \\\\\n",
      "\\textsc{BaselineStrMatchClassifier} &  $100.00$  & $92.10$ & $36.21$ & $51.98$  & $96.16$ & $37.71$ & $54.18$  & $44.96$ \\\\\n",
      "\\textsc{BaselineStrMatchProClassifier} &  $99.95$  & $85.68$ & $52.72$ & $65.27$  & $89.87$ & $45.45$ & $60.37$  & $51.42$ \\\\\n",
      "\\textsc{BaselineHeadMatchClassifier} &  $99.95$  & $87.00$ & $46.07$ & $60.24$  & $91.85$ & $43.28$ & $58.84$  & $50.52$ \\\\\n",
      "\\textsc{BaselineHeadMatchProClassifier} &  $99.95$  & $85.68$ & $52.75$ & $65.30$  & $89.87$ & $45.46$ & $60.38$  & $51.44$ \\\\\n"
     ]
    }
   ],
   "source": [
    "coref_utils.get_score_table(BaselineAllInOneClassifier(scorer_path), rucoref_test, gs_mentions, gs_groups, False)\n",
    "coref_utils.get_score_table(BaselineAllSingletonsClassifier(scorer_path), rucoref_test, gs_mentions, gs_groups, False)\n",
    "coref_utils.get_score_table(BaselineStrMatchClassifier(scorer_path), rucoref_test, gs_mentions, gs_groups, False)\n",
    "coref_utils.get_score_table(BaselineStrMatchProClassifier(scorer_path), rucoref_test, gs_mentions, gs_groups, False)\n",
    "coref_utils.get_score_table(BaselineHeadMatchClassifier(scorer_path), rucoref_test, gs_mentions, gs_groups, False)\n",
    "coref_utils.get_score_table(BaselineHeadMatchProClassifier(scorer_path), rucoref_test, gs_mentions, gs_groups, False)"
   ]
  },
  {
   "cell_type": "code",
   "execution_count": 21,
   "metadata": {
    "collapsed": false
   },
   "outputs": [
    {
     "name": "stdout",
     "output_type": "stream",
     "text": [
      "\\textsc{BaselineAllInOneClassifier} &  $48.81$  & $25.09$ & $85.39$ & $38.79$  & $1.48$ & $82.03$ & $2.91$  & $11.75$ \\\\\n",
      "\\textsc{BaselineAllSingletonsClassifier} &  $48.83$  & $0.00$ & $0.00$ & $0.00$  & $33.74$ & $21.19$ & $26.03$  & $12.65$ \\\\\n",
      "\\textsc{BaselineStrMatchClassifier} &  $48.83$  & $41.84$ & $27.95$ & $33.52$  & $31.84$ & $31.78$ & $31.81$  & $22.26$ \\\\\n",
      "\\textsc{BaselineStrMatchProClassifier} &  $48.83$  & $33.73$ & $42.94$ & $37.78$  & $27.05$ & $39.21$ & $32.02$  & $25.64$ \\\\\n",
      "\\textsc{BaselineHeadMatchClassifier} &  $48.83$  & $32.86$ & $36.85$ & $34.74$  & $29.22$ & $36.61$ & $32.50$  & $25.01$ \\\\\n",
      "\\textsc{BaselineHeadMatchProClassifier} &  $48.83$  & $33.73$ & $42.94$ & $37.78$  & $27.05$ & $39.21$ & $32.02$  & $25.64$ \\\\\n"
     ]
    }
   ],
   "source": [
    "coref_utils.get_score_table(BaselineAllInOneClassifier(scorer_path), rucoref_test, pred_mentions_gold_bound, pred_groups_gold_bound, False)\n",
    "coref_utils.get_score_table(BaselineAllSingletonsClassifier(scorer_path), rucoref_test, pred_mentions_gold_bound, pred_groups_gold_bound, False)\n",
    "coref_utils.get_score_table(BaselineStrMatchClassifier(scorer_path), rucoref_test, pred_mentions_gold_bound, pred_groups_gold_bound, False)\n",
    "coref_utils.get_score_table(BaselineStrMatchProClassifier(scorer_path), rucoref_test, pred_mentions_gold_bound, pred_groups_gold_bound, False)\n",
    "coref_utils.get_score_table(BaselineHeadMatchClassifier(scorer_path), rucoref_test, pred_mentions_gold_bound, pred_groups_gold_bound, False)\n",
    "coref_utils.get_score_table(BaselineHeadMatchProClassifier(scorer_path), rucoref_test, pred_mentions_gold_bound, pred_groups_gold_bound, False)"
   ]
  },
  {
   "cell_type": "code",
   "execution_count": 22,
   "metadata": {
    "collapsed": false
   },
   "outputs": [
    {
     "name": "stdout",
     "output_type": "stream",
     "text": [
      "\\textsc{BaselineAllInOneClassifier} &  $34.00$  & $15.86$ & $54.01$ & $24.52$  & $0.91$ & $46.34$ & $1.78$  & $8.31$ \\\\\n",
      "\\textsc{BaselineAllSingletonsClassifier} &  $34.00$  & $0.00$ & $0.00$ & $0.00$  & $23.49$ & $14.51$ & $17.94$  & $11.14$ \\\\\n",
      "\\textsc{BaselineStrMatchClassifier} &  $34.00$  & $28.92$ & $17.97$ & $22.17$  & $21.73$ & $20.43$ & $21.06$  & $17.41$ \\\\\n",
      "\\textsc{BaselineStrMatchProClassifier} &  $34.00$  & $20.75$ & $25.40$ & $22.84$  & $17.99$ & $23.85$ & $20.51$  & $18.82$ \\\\\n",
      "\\textsc{BaselineHeadMatchClassifier} &  $34.00$  & $19.81$ & $21.72$ & $20.72$  & $20.11$ & $21.88$ & $20.96$  & $18.55$ \\\\\n",
      "\\textsc{BaselineHeadMatchProClassifier} &  $34.00$  & $20.75$ & $25.40$ & $22.84$  & $17.99$ & $23.85$ & $20.51$  & $18.82$ \\\\\n"
     ]
    }
   ],
   "source": [
    "coref_utils.get_score_table(BaselineAllInOneClassifier(scorer_path), rucoref_test, pred_mentions, pred_groups, False)\n",
    "coref_utils.get_score_table(BaselineAllSingletonsClassifier(scorer_path), rucoref_test, pred_mentions, pred_groups, False)\n",
    "coref_utils.get_score_table(BaselineStrMatchClassifier(scorer_path), rucoref_test, pred_mentions, pred_groups, False)\n",
    "coref_utils.get_score_table(BaselineStrMatchProClassifier(scorer_path), rucoref_test, pred_mentions, pred_groups, False)\n",
    "coref_utils.get_score_table(BaselineHeadMatchClassifier(scorer_path), rucoref_test, pred_mentions, pred_groups, False)\n",
    "coref_utils.get_score_table(BaselineHeadMatchProClassifier(scorer_path), rucoref_test, pred_mentions, pred_groups, False)"
   ]
  },
  {
   "cell_type": "code",
   "execution_count": 23,
   "metadata": {
    "collapsed": false
   },
   "outputs": [],
   "source": [
    "scores, groups, chains_base = BaselineHeadMatchProClassifier(scorer_path).score(rucoref_test, \n",
    "                                                                                pred_mentions_gold_bound, \n",
    "                                                                                pred_groups_gold_bound, \n",
    "                                                                                metrics=('muc',), heads_only=False)"
   ]
  },
  {
   "cell_type": "code",
   "execution_count": 24,
   "metadata": {
    "collapsed": false
   },
   "outputs": [
    {
     "name": "stdout",
     "output_type": "stream",
     "text": [
      "-- SYS --\n",
      "Неприятности:неприятность(Ncfpnn, 5)\n",
      "разные неприятности:разный неприятность(Ncfpnn, 1572)\n",
      "\n",
      "старом деревенском доме:старый деревенский дом(Ncmsln, 52)\n",
      "дом:дом(Ncmsan, 2780)\n",
      "домом:дом(Ncmsin, 2976)\n",
      "дома:дом(Ncmsgn, 3969)\n",
      "старый дом:старый дом(Ncmsnn, 4080)\n",
      "дом:дом(Ncmsan, 4867)\n",
      "\n",
      "Фунтик:фунтик(Ncmsnn, 104)\n",
      "Фунтик:фунтик(Npmsny, 2051)\n",
      "Фунтик:фунтик(Npmsny, 2702)\n",
      "Фунтик:фунтик(Npmsny, 2954)\n",
      "\n",
      "Фунтика:фунтика(Ncfsnn, 112)\n",
      "Фунтика:фунтика(Npmsay, 697)\n",
      "Фунтика:фунтика(Ncmsgn, 1089)\n",
      "Фунтика:фунтика(Npmsay, 2209)\n",
      "Фунтика:фунтика(Npmsay, 2632)\n",
      "его:он(P-3msan, 2652)\n",
      "\n",
      "черный кот Степан:черный кот степан(Ncmsny, 154)\n",
      "всех котов:весь кот(Ncmpgy, 1121)\n",
      "\n",
      "несколько часов:несколько часы(Nc--a, 2982)\n",
      "нескольку часов:несколько часы(Nc--d, 3459)\n",
      "\n",
      "вечеру:вечер(Ncmsdn, 3011)\n",
      "вечерам:вечер(Ncmpdn, 4838)\n",
      "\n",
      "забор:забор(Ncmsnn, 1058)\n",
      "высокому забору:высокий забор(Ncmsdn, 1373)\n",
      "\n",
      "обслюненной лапой:обслюненной лапа(Ncfsin, 300)\n",
      "себя:себя(P----gn, 320)\n",
      "\n",
      "ухом:ухо(Ncnsin, 328)\n",
      "ухо:ухо(Ncnsan, 438)\n",
      "Одно ухо у него:один ухо у он(Ncnsan, 510)\n",
      "вывернутому уху:вывернутому ухо(Ncnsdn, 708)\n",
      "уши:ухо(Ncnpan, 2731)\n",
      "\n",
      "Степан:степан(Npmsny, 344)\n",
      "Степана:степан(Npmsgy, 449)\n",
      "Степану:степан(Npmsdy, 592)\n",
      "Степан:степан(Npmsny, 670)\n",
      "Степана:степан(Npmsgy, 779)\n",
      "Степана:степан(Npmsgy, 1106)\n",
      "Он:он(P-3msnn, 1158)\n",
      "\n",
      "пристальный взгляд:пристальный взгляд(Ncmsnn, 372)\n",
      "Он:он(P-3msnn, 392)\n",
      "\n",
      "рукомойником:рукомойник(Ncmsin, 4578)\n",
      "рукомойника:рукомойник(Ncmsgn, 4629)\n",
      "\n",
      "лапой:лапа(Ncfsin, 416)\n",
      "лапу:лапа(Ncfsan, 1529)\n",
      "лапу:лапа(Ncfsan, 2396)\n",
      "мозолистыми лапами:мозолистый лапа(Ncfpin, 2591)\n",
      "\n",
      "худая черная курица:худой черный курица(Ncfsny, 3183)\n",
      "эту курицу:этот курица(Ncfsay, 3306)\n",
      "Курица эта:курица этот(Ncfsny, 3410)\n",
      "эта курица:этот курица(Ncfsny, 3651)\n",
      "она:она(P-3fsnn, 3664)\n",
      "\n",
      "шее:шея(Ncfsln, 3207)\n",
      "нее:она(P-3fsgn, 3213)\n",
      "\n",
      "злости:злость(Ncfsgn, 469)\n",
      "злости:злость(Ncfsgn, 3396)\n",
      "\n",
      "Маленький рыжий пес:маленький рыжий пес(Ncmsny, 477)\n",
      "него:он(P-3msgn, 521)\n",
      "\n",
      "шаль:шаль(Ncfsan, 3232)\n",
      "она:она(P-3fsnn, 3265)\n",
      "\n",
      "крыши:крыша(Ncfsgn, 3536)\n",
      "крышах:крыша(Ncfpln, 3821)\n",
      "крышам:крыша(Ncfpdn, 4203)\n",
      "\n",
      "дерево:дерево(Ncnsnn, 1047)\n",
      "деревьях:дерево(Ncnpln, 4311)\n",
      "\n",
      "печной трубе:печной труба(Ncfsln, 3678)\n",
      "водосточной трубы:водосточный труба(Ncfsgn, 4368)\n",
      "трубой:труба(Ncfsin, 4394)\n",
      "\n",
      "средневековые харчевни:средневековый харчевни(Ncmpnn, 3746)\n",
      "них:они(P-3-pln, 3774)\n",
      "\n",
      "Вальтера Скотта:вальтер скотт(Npmsgy, 3801)\n",
      "Вальтера Скотта:вальтер скотт(Npmsgy, 4138)\n",
      "Вальтера Скотта:вальтер скотт(Npmsgy, 4675)\n",
      "\n",
      "Скотта:скотт(Npmsay, 3810)\n",
      "Скотта:скотт(Npmsay, 4148)\n",
      "Скотта:скотт(Npmsay, 4684)\n",
      "\n",
      "заросший чистотелом сад:зарасти чистотелом сад(Ncmsan, 1185)\n",
      "сад:сад(Ncmsan, 1205)\n",
      "сад:сад(Ncmsan, 1351)\n",
      "саду:сад(Ncmsdn, 4217)\n",
      "\n",
      "Степан:степан(Npmsny, 1494)\n",
      "Степана:степан(Npmsgy, 1557)\n",
      "он:он(P-3msnn, 1602)\n",
      "\n",
      "теплый дождь:теплый дождь(Ncmsnn, 4223)\n",
      "дождя:дождь(Ncmsgn, 4540)\n",
      "\n",
      "Степан:степан(Npmsny, 1690)\n",
      "ему:он(P-3msdn, 1731)\n",
      "\n",
      "Степана:степан(Npmsgy, 1808)\n",
      "Степан:степан(Npmsny, 1878)\n",
      "Степан:степан(Npmsny, 2505)\n",
      "\n",
      "раз:раз(Ncmsan, 1862)\n",
      "Раз:раз(Ncmsnn, 4592)\n",
      "\n",
      "маленькая зеленая лягушка:маленький зеленый лягушка(Ncfsny, 4416)\n",
      "лягушка:лягушка(Ncfsny, 4481)\n",
      "лягушка:лягушка(Ncfsny, 4547)\n",
      "лягушке:лягушка(Ncfsly, 4813)\n",
      "лягушка:лягушка(Ncfsny, 4847)\n",
      "Она:она(P-3fsnn, 4873)\n",
      "\n",
      "крыше:крыша(Ncfsln, 1894)\n",
      "крыше:крыша(Ncfsln, 3492)\n",
      "ее:она(P-3fsan, 3531)\n",
      "\n",
      "деревянная миска с мутной водой:деревянный миска с мутный вода(Ncfsnn, 1971)\n",
      "миске:миска(Ncfsdn, 2068)\n",
      "\n",
      "мутной водой:мутный вода(Ncfsin, 1991)\n",
      "нее:она(P-3fsan, 2009)\n",
      "\n",
      "корки черного хлеба:корка черный хлеб(Ncfsgn, 2021)\n",
      "большую размокшую корку:большой размокшую корка(Ncfsan, 2102)\n",
      "размокшую корку:размокшую корка(Ncfsan, 2853)\n",
      "ее:она(P-3fsan, 2895)\n",
      "\n",
      "кур:кура(Ncfpgy, 2046)\n",
      "куры:кура(Ncfpny, 3371)\n",
      "куры:кура(Ncfpny, 3882)\n",
      "\n",
      "минуту:минута(Ncfsan, 4598)\n",
      "ей:она(P-3fsdn, 4605)\n",
      "\n",
      "воды:вода(Ncfsgn, 2097)\n",
      "вода:вода(Ncfsnn, 4322)\n",
      "Вода:вода(Ncfsnn, 4444)\n",
      "ей:она(P-3fsdn, 4457)\n",
      "\n",
      "Сварливый голенастый петух:сварливый голенастый петух(Ncmsny, 2133)\n",
      "Петух:петух(Ncmsny, 2282)\n",
      "петух:петух(Ncmsny, 2382)\n",
      "него:он(P-3msgn, 2440)\n",
      "\n",
      "одним глазом:один глаз(Ncmsin, 2217)\n",
      "другим глазом:другой глаз(Ncmsin, 2267)\n",
      "глаза:глаз(Ncmpnn, 2403)\n",
      "его:его(P-----a, 2409)\n",
      "\n",
      "голову:голова(Ncfsan, 2246)\n",
      "голову:голова(Ncfsan, 4470)\n",
      "голову:голова(Ncfsan, 4618)\n",
      "голову ледяной воды:голова ледяной вода(Ncfsan, 4779)\n",
      "\n",
      "бела дня:белый день(Ncmsgn, 2338)\n",
      "пасмурные дни:пасмурный день(Ncmpan, 4167)\n",
      "\n",
      "петуха:петух(Ncmsgy, 3170)\n",
      "жестяные петухи:жестяной петух(Ncmpny, 3861)\n",
      "\n",
      "петух:петух(Ncmsny, 2536)\n",
      "петух:петух(Ncmsny, 2613)\n",
      "Петух:петух(Ncmsny, 2791)\n",
      "петуха:петух(Ncmsgy, 3044)\n",
      "него:он(P-3msgn, 3082)\n",
      "\n",
      "мордой:морда(Ncfsin, 864)\n",
      "Морда:морда(Ncfsnn, 3073)\n",
      "\n",
      "усам:ус(Ncmpdn, 3114)\n",
      "\n",
      "мокрым носом:мокрый нос(Ncmsin, 576)\n",
      "\n",
      "Горлачом:горлачом(Ncmsin, 2173)\n",
      "\n",
      "любопытства:любопытство(Ncnsgn, 549)\n",
      "\n",
      "лугов:луг(Ncmpgn, 3605)\n",
      "\n",
      "тех пор:тот пора(Ncfpgn, 759)\n",
      "\n",
      "солнце:солнце(Ncnsln, 916)\n",
      "\n",
      "капустниц:капустниц(Ncfpgy, 1269)\n",
      "\n",
      "корки:корка(Ncfsgn, 2928)\n",
      "\n",
      "пес:пес(Ncmsny, 563)\n",
      "\n",
      "земле:земля(Ncfsdn, 1361)\n",
      "\n",
      "кирпичом:кирпич(Ncmsin, 3549)\n",
      "\n",
      "плотицу:плотицу(Ncfsan, 1618)\n",
      "\n",
      "густую пыль:густой пыль(Ncfsan, 2832)\n",
      "\n",
      "средние века:средний век(Ncmpan, 4707)\n",
      "\n",
      "крыльями:крыло(Ncnpin, 2815)\n",
      "\n",
      "деревне:деревня(Ncfsdn, 3348)\n",
      "\n",
      "всей силы:весь сила(Ncfsgn, 290)\n",
      "\n",
      "далекий гром:далекий гром(Ncmsnn, 2491)\n",
      "\n",
      "сгнившей скамье:сгнить скамья(Ncfsdn, 1301)\n",
      "\n",
      "отдушину:отдушина(Ncfsan, 2767)\n",
      "\n",
      "негодования:негодование(Ncnsgn, 1831)\n",
      "\n",
      "жабрах:жабрах(Ncmpln, 1649)\n",
      "\n",
      "косяки рассохшихся дверей:косяк рассохнуться дверь(Ncmpan, 873)\n",
      "\n",
      "желтых бабочек:желтый бабочка(Ncfpgy, 1253)\n",
      "\n",
      "лужице:лужице(Ncfsln, 4566)\n",
      "\n",
      "временами:время(Ncnpin, 1484)\n",
      "\n",
      "ударов маленьких дождевых капель:удар маленький дождевой капля(Ncmpgn, 4243)\n",
      "\n",
      "холодная вода:холодный вода(Ncfsnn, 4641)\n",
      "\n",
      "отчаянным воплем:отчаянный вопль(Ncmsin, 2739)\n",
      "\n",
      "утрам:утро(Ncnpdn, 1170)\n",
      "\n",
      "когти:коготь(Ncmpan, 1291)\n",
      "\n",
      "растопыренную пятерню:растопырить пятерня(Ncfsan, 237)\n",
      "\n",
      "петухе:петухе(Ncmsln, 2477)\n",
      "\n",
      "кривоногой собаки:кривоногой собака(Ncfsgy, 1767)\n",
      "\n",
      "Москвы:москва(Ncfsgn, 132)\n",
      "\n",
      "тмином:тмином(Ncmsan, 4098)\n",
      "\n",
      "сторонкой:сторонка(Ncfsin, 3026)\n",
      "\n",
      "комнаты:комната(Ncfpan, 3064)\n",
      "\n",
      "крепкий стук:крепкий стук(Ncmsnn, 2688)\n",
      "\n",
      "заржавленной колючей проволокой:заржавленной колючий проволока(Ncfsin, 1419)\n",
      "\n",
      "крыльце:крыльцо(Ncnsln, 194)\n",
      "\n",
      "запах тмина:запах тмин(Ncmsnn, 4057)\n",
      "\n",
      "пестрого пуха:пестрый пух(Ncmsgn, 3241)\n",
      "\n",
      "крысу:крыса(Ncfsay, 1797)\n",
      "\n",
      "этого загадочного зверя:это загадочный зверь(Ncmsgy, 618)\n",
      "\n",
      "ворона:ворона(Ncfsny, 3435)\n",
      "\n",
      "кривоногая такса Фунтик:кривоногий такса фунтик(Ncfsnn, 87)\n",
      "\n",
      "вывеску:вывеска(Ncfsan, 3899)\n",
      "\n",
      "Он:он(P-3msnn, 228)\n",
      "\n",
      "лето:лето(Ncnsan, 1873)\n",
      "\n",
      "мокрые листья:мокрый лист(Ncmpan, 4292)\n",
      "\n",
      "пауки:паук(Ncmpny, 3137)\n",
      "\n",
      "грабеж:грабеж(Ncmsan, 2359)\n",
      "\n",
      "шесте:шест(Ncmsln, 3855)\n",
      "\n",
      "древесной трухой:древесный труха(Ncfsin, 4107)\n",
      "\n",
      "огонь керосиновой лампы:огонь керосиновый лампа(Ncmsan, 4934)\n",
      "\n",
      "пыльной паутине:пыльный паутина(Ncfsln, 3095)\n",
      "\n",
      "колодца:колодец(Ncmsgn, 929)\n",
      "\n",
      "порог:порог(Ncmsan, 4892)\n",
      "\n",
      "спину:спина(Ncfsan, 2659)\n",
      "\n",
      "жизнь:жизнь(Ncfsan, 768)\n",
      "\n",
      "бревенчатые темные стены:бревенчатый темный стена(Ncfpan, 3974)\n",
      "\n",
      "самой страшной пыткой:сам страшный пытка(Ncfsin, 4720)\n",
      "\n",
      "желтым мхом:желтый мох(Ncmsin, 4017)\n",
      "\n",
      "цыпочках:цыпочки(Ncmpln, 972)\n",
      "\n",
      "старых яблонь:старый яблоня(Ncfpgn, 1221)\n",
      "\n",
      "перерыва:перерыв(Ncmsgn, 3504)\n",
      "\n",
      "хлеб:хлеб(Ncmsan, 2718)\n",
      "\n",
      "луже:лужа(Ncfsln, 4411)\n",
      "\n",
      "прозрачной струей:прозрачный струя(Ncfsin, 4346)\n",
      "\n",
      "кровью:кровь(Ncfsin, 2422)\n",
      "\n",
      "воробьев:воробей(Ncmpay, 1236)\n",
      "\n",
      "Война:война(Ncfsnn, 731)\n",
      "\n",
      "гадалку:гадалка(Ncfsay, 3290)\n",
      "\n",
      "сторону:сторона(Ncfsan, 2901)\n",
      "\n",
      "такое медленное капанье:такой медленный капанье(Ncnsan, 4752)\n",
      "\n",
      "жести:жесть(Ncfsgn, 3716)\n",
      "\n",
      "пылающие поленья:пылать полено(Ncnpan, 4030)\n",
      "\n",
      "отвращением:отвращение(Ncnsin, 2873)\n",
      "\n",
      "курчавой гусиной травы:курчавый гусиный трава(Ncfsgn, 1937)\n",
      "\n",
      "цыганку:цыганка(Ncfsay, 3282)\n",
      "\n",
      "часами:час(Ncmpin, 4900)\n",
      "\n",
      "рыболовным крючком:рыболовным крючок(Ncmsin, 1656)\n",
      "\n",
      "старухи:старуха(Ncfpny, 3336)\n",
      "\n",
      "псиной:псина(Ncfsin, 2940)\n",
      "\n",
      "печке:печка(Ncfsln, 4049)\n",
      "\n",
      "возможности:возможность(Ncfsgn, 3567)\n",
      "\n",
      "конце лета:конец лето(Ncmsln, 30)\n",
      "\n",
      "твердые привычки:твердый привычка(Ncfpan, 1140)\n",
      "\n",
      "дворе:двор(Ncmsln, 1922)\n",
      "\n",
      "средневековой харчевне:средневековый харчевне(Ncfsln, 3929)\n",
      "\n",
      "леса:лес(Ncmsgn, 3618)\n",
      "\n",
      "опаской:опаска(Ncfsin, 960)\n",
      "\n",
      "всякую прелесть:всякий прелесть(Ncfsnn, 796)\n",
      "\n",
      "\n",
      "\n",
      "-- GS --\n",
      "мы:мы(P-1-pnn, 3586)\n",
      "Нам:мы(P-1-pdn, 3729)\n",
      "мы:мы(P-1-pnn, 3778)\n",
      "нас:мы(P-1-pan, 3955)\n",
      "мы:мы(P-1-pnn, 4155)\n",
      "мы:мы(P-1-pnn, 4691)\n",
      "\n",
      "крыше:крыша(Ncfsln, 1894)\n",
      "крыше:крыша(Ncfsln, 3492)\n",
      "крыши:крыша(Ncfsgn, 3536)\n",
      "\n",
      "худая черная курица:худой черный курица(Ncfsny, 3183)\n",
      "нее:она(P-3fsgn, 3213)\n",
      "она:она(P-3fsnn, 3265)\n",
      "эту курицу:этот курица(Ncfsay, 3306)\n",
      "Курица эта:курица этот(Ncfsny, 3410)\n",
      "ее:она(P-3fsan, 3531)\n",
      "эта курица:этот курица(Ncfsny, 3651)\n",
      "она:она(P-3fsnn, 3664)\n",
      "\n",
      "старом деревенском доме:старый деревенский дом(Ncmsln, 52)\n",
      "дом:дом(Ncmsan, 2780)\n",
      "домом:дом(Ncmsin, 2976)\n",
      "старый дом:старый дом(Ncmsnn, 4080)\n",
      "дом:дом(Ncmsan, 4867)\n",
      "\n",
      "большую размокшую корку:большой размокшую корка(Ncfsan, 2102)\n",
      "хлеб:хлеб(Ncmsan, 2718)\n",
      "размокшую корку:размокшую корка(Ncfsan, 2853)\n",
      "ее:она(P-3fsan, 2895)\n",
      "корки:корка(Ncfsgn, 2928)\n",
      "\n",
      "Сварливый голенастый петух:сварливый голенастый петух(Ncmsny, 2133)\n",
      "Петух:петух(Ncmsny, 2282)\n",
      "петух:петух(Ncmsny, 2382)\n",
      "его:его(P-----a, 2409)\n",
      "него:он(P-3msgn, 2440)\n",
      "петухе:петухе(Ncmsln, 2477)\n",
      "петух:петух(Ncmsny, 2536)\n",
      "петух:петух(Ncmsny, 2613)\n",
      "Петух:петух(Ncmsny, 2791)\n",
      "петуха:петух(Ncmsgy, 3044)\n",
      "петуха:петух(Ncmsgy, 3170)\n",
      "\n",
      "деревянная миска с мутной водой:деревянный миска с мутный вода(Ncfsnn, 1971)\n",
      "нее:она(P-3fsan, 2009)\n",
      "миске:миска(Ncfsdn, 2068)\n",
      "\n",
      "заросший чистотелом сад:зарасти чистотелом сад(Ncmsan, 1185)\n",
      "сад:сад(Ncmsan, 1351)\n",
      "саду:сад(Ncmsdn, 4217)\n",
      "\n",
      "Одно ухо у него:один ухо у он(Ncnsan, 510)\n",
      "вывернутому уху:вывернутому ухо(Ncnsdn, 708)\n",
      "\n",
      "ухом:ухо(Ncnsin, 328)\n",
      "ухо:ухо(Ncnsan, 438)\n",
      "\n",
      "растопыренную пятерню:растопырить пятерня(Ncfsan, 237)\n",
      "обслюненной лапой:обслюненной лапа(Ncfsin, 300)\n",
      "лапой:лапа(Ncfsin, 416)\n",
      "\n",
      "черный кот Степан:черный кот степан(Ncmsny, 154)\n",
      "Он:он(P-3msnn, 228)\n",
      "себя:себя(P----gn, 320)\n",
      "Степан:степан(Npmsny, 344)\n",
      "Он:он(P-3msnn, 392)\n",
      "Степана:степан(Npmsgy, 449)\n",
      "Степану:степан(Npmsdy, 592)\n",
      "этого загадочного зверя:это загадочный зверь(Ncmsgy, 618)\n",
      "Степан:степан(Npmsny, 670)\n",
      "Степана:степан(Npmsgy, 779)\n",
      "Степана:степан(Npmsgy, 1106)\n",
      "Он:он(P-3msnn, 1158)\n",
      "Степан:степан(Npmsny, 1494)\n",
      "Степана:степан(Npmsgy, 1557)\n",
      "он:он(P-3msnn, 1602)\n",
      "Степан:степан(Npmsny, 1690)\n",
      "ему:он(P-3msdn, 1731)\n",
      "Степана:степан(Npmsgy, 1808)\n",
      "Степан:степан(Npmsny, 1878)\n",
      "Степан:степан(Npmsny, 2505)\n",
      "\n",
      "кривоногая такса Фунтик:кривоногий такса фунтик(Ncfsnn, 87)\n",
      "Фунтика:фунтика(Ncfsnn, 112)\n",
      "Маленький рыжий пес:маленький рыжий пес(Ncmsny, 477)\n",
      "него:он(P-3msgn, 521)\n",
      "пес:пес(Ncmsny, 563)\n",
      "Фунтика:фунтика(Npmsay, 697)\n",
      "Фунтика:фунтика(Ncmsgn, 1089)\n",
      "кривоногой собаки:кривоногой собака(Ncfsgy, 1767)\n",
      "Фунтик:фунтик(Npmsny, 2051)\n",
      "Фунтика:фунтика(Npmsay, 2209)\n",
      "Фунтика:фунтика(Npmsay, 2632)\n",
      "его:он(P-3msan, 2652)\n",
      "Фунтик:фунтик(Npmsny, 2702)\n",
      "Фунтик:фунтик(Npmsny, 2954)\n",
      "него:он(P-3msgn, 3082)\n",
      "\n",
      "голову:голова(Ncfsan, 4470)\n",
      "голову:голова(Ncfsan, 4618)\n",
      "\n",
      "рукомойником:рукомойник(Ncmsin, 4578)\n",
      "рукомойника:рукомойник(Ncmsgn, 4629)\n",
      "\n",
      "маленькая зеленая лягушка:маленький зеленый лягушка(Ncfsny, 4416)\n",
      "ей:она(P-3fsdn, 4457)\n",
      "лягушка:лягушка(Ncfsny, 4481)\n",
      "лягушка:лягушка(Ncfsny, 4547)\n",
      "ей:она(P-3fsdn, 4605)\n",
      "лягушке:лягушка(Ncfsly, 4813)\n",
      "лягушка:лягушка(Ncfsny, 4847)\n",
      "Она:она(P-3fsnn, 4873)\n",
      "\n",
      "водосточной трубы:водосточный труба(Ncfsgn, 4368)\n",
      "трубой:труба(Ncfsin, 4394)\n",
      "\n",
      "Вальтера Скотта:вальтер скотт(Npmsgy, 3801)\n",
      "Вальтера Скотта:вальтер скотт(Npmsgy, 4138)\n",
      "Вальтера Скотта:вальтер скотт(Npmsgy, 4675)\n",
      "\n",
      "средневековые харчевни:средневековый харчевни(Ncmpnn, 3746)\n",
      "них:они(P-3-pln, 3774)\n",
      "этих харчевен:этот харчевен(Afpmsns, 3828)\n",
      "\n"
     ]
    }
   ],
   "source": [
    "coref_utils.print_chains_in_text(rucoref_test, 1, chains_base, pred_mentions_gold_bound)"
   ]
  },
  {
   "cell_type": "code",
   "execution_count": null,
   "metadata": {
    "collapsed": true
   },
   "outputs": [],
   "source": [
    "rucoref_train.export_conll('kek.txt')"
   ]
  },
  {
   "cell_type": "code",
   "execution_count": null,
   "metadata": {
    "collapsed": false
   },
   "outputs": [],
   "source": [
    "rm kek"
   ]
  },
  {
   "cell_type": "code",
   "execution_count": 25,
   "metadata": {
    "collapsed": true
   },
   "outputs": [],
   "source": [
    "rucoref_train.export_close_conll(\"kek_closed.txt\")"
   ]
  },
  {
   "cell_type": "code",
   "execution_count": null,
   "metadata": {
    "collapsed": true
   },
   "outputs": [],
   "source": []
  }
 ],
 "metadata": {
  "kernelspec": {
   "display_name": "Python 3",
   "language": "python",
   "name": "python3"
  },
  "language_info": {
   "codemirror_mode": {
    "name": "ipython",
    "version": 3
   },
   "file_extension": ".py",
   "mimetype": "text/x-python",
   "name": "python",
   "nbconvert_exporter": "python",
   "pygments_lexer": "ipython3",
   "version": "3.5.2"
  }
 },
 "nbformat": 4,
 "nbformat_minor": 0
}
