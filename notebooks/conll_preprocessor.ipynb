{
 "cells": [
  {
   "cell_type": "code",
   "execution_count": 56,
   "metadata": {
    "collapsed": false
   },
   "outputs": [
    {
     "name": "stderr",
     "output_type": "stream",
     "text": [
      "/Users/cnst/anaconda/lib/python3.5/site-packages/pandas/computation/__init__.py:19: UserWarning: The installed version of numexpr 2.4.4 is not supported in pandas and will be not be used\n",
      "\n",
      "  UserWarning)\n"
     ]
    }
   ],
   "source": [
    "import os\n",
    "import random\n",
    "from shutil import copyfile, copy\n",
    "import numpy as np\n",
    "\n",
    "from matplotlib import pyplot as plt\n",
    "\n",
    "import seaborn as sns\n",
    "\n",
    "%matplotlib inline"
   ]
  },
  {
   "cell_type": "code",
   "execution_count": 18,
   "metadata": {
    "collapsed": false
   },
   "outputs": [
    {
     "data": {
      "text/plain": [
       "[1, 2, 3]"
      ]
     },
     "execution_count": 18,
     "metadata": {},
     "output_type": "execute_result"
    }
   ],
   "source": [
    "lst = [1, 2, 3]\n",
    "random.shuffle(lst)\n",
    "lst"
   ]
  },
  {
   "cell_type": "code",
   "execution_count": 19,
   "metadata": {
    "collapsed": false
   },
   "outputs": [
    {
     "name": "stdout",
     "output_type": "stream",
     "text": [
      "Archive.zip     \u001b[34maction_spaces\u001b[m\u001b[m/  \u001b[30m\u001b[43mconll-2012\u001b[m\u001b[m/     \u001b[34mdocuments\u001b[m\u001b[m/      \u001b[34mgold\u001b[m\u001b[m/           \u001b[34mmy_conll\u001b[m\u001b[m/       w2v_50d.txt\r\n",
      "Untitled.ipynb  \u001b[34mclusterers\u001b[m\u001b[m/     \u001b[34mdata_raw\u001b[m\u001b[m/       \u001b[34mfeatures\u001b[m\u001b[m/       \u001b[34mmodels\u001b[m\u001b[m/         my_conll.zip\r\n"
     ]
    }
   ],
   "source": [
    "ls"
   ]
  },
  {
   "cell_type": "code",
   "execution_count": 20,
   "metadata": {
    "collapsed": false
   },
   "outputs": [
    {
     "name": "stdout",
     "output_type": "stream",
     "text": [
      "mkdir: my_conll: File exists\r\n"
     ]
    }
   ],
   "source": [
    "mkdir my_conll"
   ]
  },
  {
   "cell_type": "code",
   "execution_count": null,
   "metadata": {
    "collapsed": false
   },
   "outputs": [],
   "source": [
    "ls"
   ]
  },
  {
   "cell_type": "code",
   "execution_count": null,
   "metadata": {
    "collapsed": true
   },
   "outputs": [],
   "source": [
    "ls conll-2012/v4/data/train/data/english/annotations/"
   ]
  },
  {
   "cell_type": "code",
   "execution_count": 6,
   "metadata": {
    "collapsed": true
   },
   "outputs": [],
   "source": [
    "def mkdirex(file_path):\n",
    "    directory = os.path.dirname(file_path)\n",
    "    try:\n",
    "        os.stat(directory)\n",
    "    except:\n",
    "        os.mkdir(directory)     "
   ]
  },
  {
   "cell_type": "code",
   "execution_count": 53,
   "metadata": {
    "collapsed": false
   },
   "outputs": [],
   "source": [
    "def analyze_conll(source_dir=\"conll-2012\"):\n",
    "    doc_counts = np.zeros(1000, dtype=np.int)\n",
    "    count_map = dict()\n",
    "    for dir_path, dir_names, file_names in os.walk(source_dir):\n",
    "        for file_name in file_names:\n",
    "            if file_name.split(\".\")[-1].endswith(\"gold_conll\"):\n",
    "                with open(os.path.join(dir_path, file_name), \"r\") as f:\n",
    "                    content = f.readlines()\n",
    "                    doc_count = sum(line.startswith(\"#begin document\") for line in content)\n",
    "                count_map[file_name.split(\".\")[0]] = doc_count\n",
    "                doc_counts[doc_count] += 1\n",
    "    max_doc_count = np.where(doc_counts > 0)[0][-1]\n",
    "    return count_map, doc_counts[:max_doc_count + 1].copy()"
   ]
  },
  {
   "cell_type": "code",
   "execution_count": 54,
   "metadata": {
    "collapsed": false
   },
   "outputs": [],
   "source": [
    "count_map, doc_counts = analyze_conll()"
   ]
  },
  {
   "cell_type": "code",
   "execution_count": null,
   "metadata": {
    "collapsed": true
   },
   "outputs": [],
   "source": []
  },
  {
   "cell_type": "code",
   "execution_count": null,
   "metadata": {
    "collapsed": true
   },
   "outputs": [],
   "source": []
  },
  {
   "cell_type": "code",
   "execution_count": 33,
   "metadata": {
    "collapsed": false
   },
   "outputs": [],
   "source": [
    "def check_equal(iterator):\n",
    "    return len(set(iterator)) <= 1\n",
    "\n",
    "def create_train(source_dir=\"conll-2012\", target_dir=\"my_conll\", min_rate=0.05):\n",
    "    !cp -R {source_dir + \"/\"} {target_dir + \"/\"}\n",
    "    \n",
    "    #mkdirex(\"{}/\".format(target_dir))\n",
    "    #mkdirex(\"{}/v4\".format(target_dir))\n",
    "    #mkdirex(\"{}/v4/data\".format(target_dir))\n",
    "    #mkdirex(\"{}/v4/data/train\".format(target_dir))\n",
    "    #mkdirex(\"{}/v4/data/train/data\".format(target_dir))\n",
    "    #mkdirex(\"{}/v4/data/train/data/english\".format(target_dir))\n",
    "    #mkdirex(\"{}/v4/data/train/data/english/annotations\".format(target_dir))\n",
    "\n",
    "    #source_annot_path = \"{}/v4/data/train/data/english/annotations\".format(source_dir)\n",
    "    #target_annot_path = \"{}/v4/data/train/data/english/annotations\".format(target_dir)\n",
    "    source_annot_path = source_dir\n",
    "    target_annot_path = target_dir\n",
    "    \n",
    "    unique_names = dict()\n",
    "    \n",
    "    for dir_path, dir_names, file_names in os.walk(source_annot_path):\n",
    "        if file_names:\n",
    "            fnames = file_names\n",
    "            random.shuffle(fnames)\n",
    "            loner_name = fnames[0].split('.')[0]\n",
    "        #loner_status = check_equal(map(lambda x: x.split('.')[0], file_names))\n",
    "        for file_name in file_names:\n",
    "            unique_names[file_name.split('.')[0]] = True if file_name.split('.')[0] == loner_name else False\n",
    "            #unique_names.add(file_name.split('.')[0])\n",
    "    \n",
    "    unique_names_list = list(unique_names.keys())\n",
    "    random.shuffle(unique_names_list)\n",
    "    unique_names_list = unique_names_list[:int(min_rate*len(unique_names_list))]\n",
    "    print(len(unique_names_list))\n",
    "    \n",
    "    obligatory_unique_names = [k for (k, v) in unique_names.items() if v]\n",
    "    unique_names_list = list(set(unique_names_list + obligatory_unique_names))\n",
    "    print(len(unique_names_list))\n",
    "    \n",
    "    for dir_path, dir_names, file_names in os.walk(target_annot_path):\n",
    "        #for dir_name in dir_names:\n",
    "        #    mkdirex(dir_name + \"/\")\n",
    "        existence = True\n",
    "        for file_name in file_names:\n",
    "            if file_name.split('.')[0] not in unique_names_list:\n",
    "                os.remove(os.path.join(dir_path, file_name))"
   ]
  },
  {
   "cell_type": "code",
   "execution_count": 34,
   "metadata": {
    "collapsed": false
   },
   "outputs": [
    {
     "name": "stdout",
     "output_type": "stream",
     "text": [
      "208\n",
      "420\n"
     ]
    }
   ],
   "source": [
    "create_train()"
   ]
  },
  {
   "cell_type": "code",
   "execution_count": null,
   "metadata": {
    "collapsed": true
   },
   "outputs": [],
   "source": [
    "ss.add(1)"
   ]
  },
  {
   "cell_type": "code",
   "execution_count": null,
   "metadata": {
    "collapsed": true
   },
   "outputs": [],
   "source": [
    "ss.add(1)"
   ]
  },
  {
   "cell_type": "code",
   "execution_count": 21,
   "metadata": {
    "collapsed": false
   },
   "outputs": [
    {
     "data": {
      "text/plain": [
       "{0, 1, 4, 9, 16, 25, 36, 49, 64, 81}"
      ]
     },
     "execution_count": 21,
     "metadata": {},
     "output_type": "execute_result"
    }
   ],
   "source": [
    "set(map(lambda x: x**2, range(10)))"
   ]
  },
  {
   "cell_type": "code",
   "execution_count": null,
   "metadata": {
    "collapsed": true
   },
   "outputs": [],
   "source": []
  }
 ],
 "metadata": {
  "kernelspec": {
   "display_name": "Python 3",
   "language": "python",
   "name": "python3"
  },
  "language_info": {
   "codemirror_mode": {
    "name": "ipython",
    "version": 3
   },
   "file_extension": ".py",
   "mimetype": "text/x-python",
   "name": "python",
   "nbconvert_exporter": "python",
   "pygments_lexer": "ipython3",
   "version": "3.5.2"
  }
 },
 "nbformat": 4,
 "nbformat_minor": 0
}
